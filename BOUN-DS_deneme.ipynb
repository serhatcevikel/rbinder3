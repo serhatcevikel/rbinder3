{
 "cells": [
  {
   "cell_type": "markdown",
   "metadata": {},
   "source": [
    "Read flights14.csv into \"flights\" data frame"
   ]
  },
  {
   "cell_type": "code",
   "execution_count": null,
   "metadata": {},
   "outputs": [],
   "source": [
    "flights <- read.csv(\"./flights14.csv\")"
   ]
  },
  {
   "cell_type": "markdown",
   "metadata": {},
   "source": [
    "Check the head of the flights data frame"
   ]
  },
  {
   "cell_type": "code",
   "execution_count": null,
   "metadata": {},
   "outputs": [],
   "source": [
    "head(flights)"
   ]
  },
  {
   "cell_type": "markdown",
   "metadata": {},
   "source": [
    "create a scatter plot against distances in x axis and distances / air_time (the speed) in y axis\n",
    "\n",
    "the main title should be \"distance vs. speed\"\n",
    "titles of x,y labs should be \"distance km\" and \"speed (km/min)\"\n",
    "\n",
    "for rows where dep_time < 1200 (morning) the color should be red, else green\n"
   ]
  },
  {
   "cell_type": "code",
   "execution_count": null,
   "metadata": {},
   "outputs": [],
   "source": [
    "par(mar = rep(4,4))\n",
    "par(mfrow = c(3,3))\n",
    "\n",
    "plot(x = flights$distance,\n",
    "     y = flights$distance / flights$air_time,\n",
    "     main = \"distance vs. speed\",\n",
    "     xlab = \"distance (km)\",\n",
    "     ylab = \"speed (km/min)\",\n",
    "     col = ifelse(flights$dep_time < 1200, \"red\", \"green\")\n",
    "    )\n"
   ]
  },
  {
   "cell_type": "code",
   "execution_count": null,
   "metadata": {},
   "outputs": [],
   "source": []
  }
 ],
 "metadata": {
  "kernelspec": {
   "display_name": "R",
   "language": "R",
   "name": "ir"
  },
  "language_info": {
   "codemirror_mode": "r",
   "file_extension": ".r",
   "mimetype": "text/x-r-source",
   "name": "R",
   "pygments_lexer": "r",
   "version": "3.4.3"
  },
  "toc": {
   "nav_menu": {},
   "number_sections": true,
   "sideBar": true,
   "skip_h1_title": false,
   "toc_cell": false,
   "toc_position": {},
   "toc_section_display": "block",
   "toc_window_display": false
  }
 },
 "nbformat": 4,
 "nbformat_minor": 2
}
